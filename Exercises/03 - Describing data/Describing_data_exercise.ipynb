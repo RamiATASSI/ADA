{
 "cells": [
  {
   "cell_type": "markdown",
   "metadata": {},
   "source": [
    "# Describing Data\n",
    "\n",
    "### What do you find in this notebook?\n",
    "\n",
    "In this exercise, first, you will familiarize yourself with the Python libraries 'statsmodels' and 'SciPy' that let you do statistical analysis: calculate descriptive statistics, sample datapoints, study relationships between variables, and perform hypothesis testing. Then, second, you will work on a set of exercises that will let you practice your skills.\n",
    "\n",
    "Here we show a couple of examples of how to do common analyses, but there are many more useful probability distributions and statistical tests. In the linked documentation, you will find complete information, and a lot more details compared to what is outlined in this notebook:\n",
    "- [statsmodels](https://www.statsmodels.org/stable/examples/index.html), [more complete documentation](https://www.statsmodels.org/stable/stats.html)\n",
    "- [SciPy](https://docs.scipy.org/doc/scipy/reference/stats.html)"
   ]
  },
  {
   "cell_type": "markdown",
   "metadata": {},
   "source": [
    "# Tutorial: How to use the libraries\n",
    "\n",
    "- You will be working with the full US 2015 census dataset (acs2015_county_data.csv, available at https://www.kaggle.com/muonneutrino/us-census-demographic-data#acs2015_county_data.csv). Here we load it. Take some time to familiarize yourself with the contents. One row represents one county."
   ]
  },
  {
   "cell_type": "code",
   "execution_count": 1,
   "metadata": {
    "tags": []
   },
   "outputs": [],
   "source": [
    "import pandas as pd\n",
    "import numpy as np\n",
    "import matplotlib.pyplot as plt\n",
    "%matplotlib inline\n",
    "import seaborn as sns\n",
    "import math\n",
    "\n",
    "#load the statistical libraries\n",
    "from statsmodels.stats import diagnostic\n",
    "from scipy import stats"
   ]
  },
  {
   "cell_type": "code",
   "execution_count": 2,
   "metadata": {
    "tags": []
   },
   "outputs": [],
   "source": [
    "data_folder = './data/'\n",
    "df = pd.read_csv(data_folder + 'acs2015_county_data.csv')"
   ]
  },
  {
   "cell_type": "code",
   "execution_count": 3,
   "metadata": {},
   "outputs": [
    {
     "data": {
      "text/plain": "Index(['CensusId', 'State', 'County', 'TotalPop', 'Men', 'Women', 'Hispanic',\n       'White', 'Black', 'Native', 'Asian', 'Pacific', 'Citizen', 'Income',\n       'IncomeErr', 'IncomePerCap', 'IncomePerCapErr', 'Poverty',\n       'ChildPoverty', 'Professional', 'Service', 'Office', 'Construction',\n       'Production', 'Drive', 'Carpool', 'Transit', 'Walk', 'OtherTransp',\n       'WorkAtHome', 'MeanCommute', 'Employed', 'PrivateWork', 'PublicWork',\n       'SelfEmployed', 'FamilyWork', 'Unemployment'],\n      dtype='object')"
     },
     "execution_count": 3,
     "metadata": {},
     "output_type": "execute_result"
    }
   ],
   "source": [
    "df.columns"
   ]
  },
  {
   "cell_type": "code",
   "execution_count": 9,
   "metadata": {},
   "outputs": [
    {
     "data": {
      "text/plain": "      CensusId           State           County  TotalPop     Men   Women  \\\n2812     50013         Vermont       Grand Isle      6952    3419    3533   \n1105     21225        Kentucky            Union     15138    7800    7338   \n115       5009        Arkansas            Boone     37227   18138   19089   \n2139     40017        Oklahoma         Canadian    126193   62570   63623   \n1964     37149  North Carolina             Polk     20327    9808   10519   \n1787     34027      New Jersey           Morris    498192  244074  254118   \n149       5077        Arkansas              Lee      9966    5561    4405   \n3086     55078       Wisconsin        Menominee      4451    2185    2266   \n2915     51510        Virginia  Alexandria city    149315   72057   77258   \n1104     21223        Kentucky          Trimble      8783    4363    4420   \n\n      Hispanic  White  Black  Native  ...  Walk  OtherTransp  WorkAtHome  \\\n2812       1.7   93.6    0.0     0.9  ...   2.2          0.7         7.5   \n1105       1.8   83.0   12.9     0.1  ...   8.9          0.8         1.1   \n115        2.2   94.5    0.4     0.7  ...   1.2          1.9         2.5   \n2139       7.8   78.0    2.3     3.9  ...   0.6          1.3         3.0   \n1964       5.7   88.1    5.1     0.1  ...   1.6          2.0         6.2   \n1787      12.4   72.9    3.0     0.1  ...   2.1          1.0         5.5   \n149        2.3   41.0   56.4     0.1  ...   8.3          1.2         1.9   \n3086       5.5   10.5    0.4    80.0  ...   2.8          0.1         4.9   \n2915      16.6   52.4   20.9     0.1  ...   3.6          2.5         5.0   \n1104       3.0   96.4    0.0     0.0  ...   0.3          1.1         2.3   \n\n      MeanCommute  Employed  PrivateWork  PublicWork  SelfEmployed  \\\n2812         33.8      3697         78.2        11.7           9.8   \n1105         19.8      6085         71.2        22.6           6.0   \n115          20.3     15368         78.0        12.6           8.9   \n2139         23.1     63025         77.7        16.3           5.9   \n1964         25.0      8270         76.8        12.6          10.5   \n1787         30.3    258862         82.8        11.8           5.3   \n149          20.7      2910         64.9        25.7           9.4   \n3086         17.3      1403         36.8        59.1           3.7   \n2915         30.8     92575         70.0        25.3           4.7   \n1104         29.6      3598         83.1        11.1           5.9   \n\n      FamilyWork  Unemployment  \n2812         0.3           7.4  \n1105         0.2           7.8  \n115          0.5           8.4  \n2139         0.1           4.5  \n1964         0.1           8.8  \n1787         0.1           6.3  \n149          0.0          17.3  \n3086         0.4          14.8  \n2915         0.0           4.5  \n1104         0.0          14.6  \n\n[10 rows x 37 columns]",
      "text/html": "<div>\n<style scoped>\n    .dataframe tbody tr th:only-of-type {\n        vertical-align: middle;\n    }\n\n    .dataframe tbody tr th {\n        vertical-align: top;\n    }\n\n    .dataframe thead th {\n        text-align: right;\n    }\n</style>\n<table border=\"1\" class=\"dataframe\">\n  <thead>\n    <tr style=\"text-align: right;\">\n      <th></th>\n      <th>CensusId</th>\n      <th>State</th>\n      <th>County</th>\n      <th>TotalPop</th>\n      <th>Men</th>\n      <th>Women</th>\n      <th>Hispanic</th>\n      <th>White</th>\n      <th>Black</th>\n      <th>Native</th>\n      <th>...</th>\n      <th>Walk</th>\n      <th>OtherTransp</th>\n      <th>WorkAtHome</th>\n      <th>MeanCommute</th>\n      <th>Employed</th>\n      <th>PrivateWork</th>\n      <th>PublicWork</th>\n      <th>SelfEmployed</th>\n      <th>FamilyWork</th>\n      <th>Unemployment</th>\n    </tr>\n  </thead>\n  <tbody>\n    <tr>\n      <th>2812</th>\n      <td>50013</td>\n      <td>Vermont</td>\n      <td>Grand Isle</td>\n      <td>6952</td>\n      <td>3419</td>\n      <td>3533</td>\n      <td>1.7</td>\n      <td>93.6</td>\n      <td>0.0</td>\n      <td>0.9</td>\n      <td>...</td>\n      <td>2.2</td>\n      <td>0.7</td>\n      <td>7.5</td>\n      <td>33.8</td>\n      <td>3697</td>\n      <td>78.2</td>\n      <td>11.7</td>\n      <td>9.8</td>\n      <td>0.3</td>\n      <td>7.4</td>\n    </tr>\n    <tr>\n      <th>1105</th>\n      <td>21225</td>\n      <td>Kentucky</td>\n      <td>Union</td>\n      <td>15138</td>\n      <td>7800</td>\n      <td>7338</td>\n      <td>1.8</td>\n      <td>83.0</td>\n      <td>12.9</td>\n      <td>0.1</td>\n      <td>...</td>\n      <td>8.9</td>\n      <td>0.8</td>\n      <td>1.1</td>\n      <td>19.8</td>\n      <td>6085</td>\n      <td>71.2</td>\n      <td>22.6</td>\n      <td>6.0</td>\n      <td>0.2</td>\n      <td>7.8</td>\n    </tr>\n    <tr>\n      <th>115</th>\n      <td>5009</td>\n      <td>Arkansas</td>\n      <td>Boone</td>\n      <td>37227</td>\n      <td>18138</td>\n      <td>19089</td>\n      <td>2.2</td>\n      <td>94.5</td>\n      <td>0.4</td>\n      <td>0.7</td>\n      <td>...</td>\n      <td>1.2</td>\n      <td>1.9</td>\n      <td>2.5</td>\n      <td>20.3</td>\n      <td>15368</td>\n      <td>78.0</td>\n      <td>12.6</td>\n      <td>8.9</td>\n      <td>0.5</td>\n      <td>8.4</td>\n    </tr>\n    <tr>\n      <th>2139</th>\n      <td>40017</td>\n      <td>Oklahoma</td>\n      <td>Canadian</td>\n      <td>126193</td>\n      <td>62570</td>\n      <td>63623</td>\n      <td>7.8</td>\n      <td>78.0</td>\n      <td>2.3</td>\n      <td>3.9</td>\n      <td>...</td>\n      <td>0.6</td>\n      <td>1.3</td>\n      <td>3.0</td>\n      <td>23.1</td>\n      <td>63025</td>\n      <td>77.7</td>\n      <td>16.3</td>\n      <td>5.9</td>\n      <td>0.1</td>\n      <td>4.5</td>\n    </tr>\n    <tr>\n      <th>1964</th>\n      <td>37149</td>\n      <td>North Carolina</td>\n      <td>Polk</td>\n      <td>20327</td>\n      <td>9808</td>\n      <td>10519</td>\n      <td>5.7</td>\n      <td>88.1</td>\n      <td>5.1</td>\n      <td>0.1</td>\n      <td>...</td>\n      <td>1.6</td>\n      <td>2.0</td>\n      <td>6.2</td>\n      <td>25.0</td>\n      <td>8270</td>\n      <td>76.8</td>\n      <td>12.6</td>\n      <td>10.5</td>\n      <td>0.1</td>\n      <td>8.8</td>\n    </tr>\n    <tr>\n      <th>1787</th>\n      <td>34027</td>\n      <td>New Jersey</td>\n      <td>Morris</td>\n      <td>498192</td>\n      <td>244074</td>\n      <td>254118</td>\n      <td>12.4</td>\n      <td>72.9</td>\n      <td>3.0</td>\n      <td>0.1</td>\n      <td>...</td>\n      <td>2.1</td>\n      <td>1.0</td>\n      <td>5.5</td>\n      <td>30.3</td>\n      <td>258862</td>\n      <td>82.8</td>\n      <td>11.8</td>\n      <td>5.3</td>\n      <td>0.1</td>\n      <td>6.3</td>\n    </tr>\n    <tr>\n      <th>149</th>\n      <td>5077</td>\n      <td>Arkansas</td>\n      <td>Lee</td>\n      <td>9966</td>\n      <td>5561</td>\n      <td>4405</td>\n      <td>2.3</td>\n      <td>41.0</td>\n      <td>56.4</td>\n      <td>0.1</td>\n      <td>...</td>\n      <td>8.3</td>\n      <td>1.2</td>\n      <td>1.9</td>\n      <td>20.7</td>\n      <td>2910</td>\n      <td>64.9</td>\n      <td>25.7</td>\n      <td>9.4</td>\n      <td>0.0</td>\n      <td>17.3</td>\n    </tr>\n    <tr>\n      <th>3086</th>\n      <td>55078</td>\n      <td>Wisconsin</td>\n      <td>Menominee</td>\n      <td>4451</td>\n      <td>2185</td>\n      <td>2266</td>\n      <td>5.5</td>\n      <td>10.5</td>\n      <td>0.4</td>\n      <td>80.0</td>\n      <td>...</td>\n      <td>2.8</td>\n      <td>0.1</td>\n      <td>4.9</td>\n      <td>17.3</td>\n      <td>1403</td>\n      <td>36.8</td>\n      <td>59.1</td>\n      <td>3.7</td>\n      <td>0.4</td>\n      <td>14.8</td>\n    </tr>\n    <tr>\n      <th>2915</th>\n      <td>51510</td>\n      <td>Virginia</td>\n      <td>Alexandria city</td>\n      <td>149315</td>\n      <td>72057</td>\n      <td>77258</td>\n      <td>16.6</td>\n      <td>52.4</td>\n      <td>20.9</td>\n      <td>0.1</td>\n      <td>...</td>\n      <td>3.6</td>\n      <td>2.5</td>\n      <td>5.0</td>\n      <td>30.8</td>\n      <td>92575</td>\n      <td>70.0</td>\n      <td>25.3</td>\n      <td>4.7</td>\n      <td>0.0</td>\n      <td>4.5</td>\n    </tr>\n    <tr>\n      <th>1104</th>\n      <td>21223</td>\n      <td>Kentucky</td>\n      <td>Trimble</td>\n      <td>8783</td>\n      <td>4363</td>\n      <td>4420</td>\n      <td>3.0</td>\n      <td>96.4</td>\n      <td>0.0</td>\n      <td>0.0</td>\n      <td>...</td>\n      <td>0.3</td>\n      <td>1.1</td>\n      <td>2.3</td>\n      <td>29.6</td>\n      <td>3598</td>\n      <td>83.1</td>\n      <td>11.1</td>\n      <td>5.9</td>\n      <td>0.0</td>\n      <td>14.6</td>\n    </tr>\n  </tbody>\n</table>\n<p>10 rows × 37 columns</p>\n</div>"
     },
     "execution_count": 9,
     "metadata": {},
     "output_type": "execute_result"
    }
   ],
   "source": [
    "df.sample(10)"
   ]
  },
  {
   "cell_type": "markdown",
   "metadata": {},
   "source": [
    "- We will focus first on income per capita across counties."
   ]
  },
  {
   "cell_type": "code",
   "execution_count": 5,
   "metadata": {},
   "outputs": [
    {
     "data": {
      "text/plain": [
       "<AxesSubplot:>"
      ]
     },
     "execution_count": 5,
     "metadata": {},
     "output_type": "execute_result"
    },
    {
     "data": {
      "image/png": "[encoded data removed]",
      "text/plain": [
       "<Figure size 640x480 with 1 Axes>"
      ]
     },
     "metadata": {},
     "output_type": "display_data"
    }
   ],
   "source": [
    "df['IncomePerCap'].hist(bins = 50)"
   ]
  },
  {
   "cell_type": "markdown",
   "metadata": {},
   "source": [
    "### 1. Calculating descriptive statisctics\n",
    "\n",
    "- Let's calculate basic descriptive statistics of the income per capita."
   ]
  },
  {
   "cell_type": "code",
   "execution_count": 6,
   "metadata": {},
   "outputs": [
    {
     "data": {
      "text/plain": [
       "count     3220.000000\n",
       "mean     23981.771739\n",
       "std       6204.339960\n",
       "min       5878.000000\n",
       "25%      20238.500000\n",
       "50%      23460.000000\n",
       "75%      27053.250000\n",
       "max      65600.000000\n",
       "Name: IncomePerCap, dtype: float64"
      ]
     },
     "execution_count": 6,
     "metadata": {},
     "output_type": "execute_result"
    }
   ],
   "source": [
    "df['IncomePerCap'].describe()"
   ]
  },
  {
   "cell_type": "markdown",
   "metadata": {},
   "source": [
    "- What distribution does the data come from? Here is how we can test the goodness of the fit."
   ]
  },
  {
   "cell_type": "code",
   "execution_count": 7,
   "metadata": {},
   "outputs": [
    {
     "data": {
      "text/plain": [
       "(0.0637621121184162, 0.0009999999999998899)"
      ]
     },
     "execution_count": 7,
     "metadata": {},
     "output_type": "execute_result"
    }
   ],
   "source": [
    "# does the data come from a normal distrbution?\n",
    "diagnostic.kstest_normal(df['IncomePerCap'].values, dist = 'norm')"
   ]
  },
  {
   "cell_type": "markdown",
   "metadata": {},
   "source": [
    "- p_value < 0.05 -> we can reject the null hypothesis that the data comes from a normal distribution!"
   ]
  },
  {
   "cell_type": "code",
   "execution_count": 8,
   "metadata": {},
   "outputs": [
    {
     "data": {
      "text/plain": [
       "(0.433243770582646, 0.0009999999999998899)"
      ]
     },
     "execution_count": 8,
     "metadata": {},
     "output_type": "execute_result"
    }
   ],
   "source": [
    "#how about exponential?\n",
    "diagnostic.kstest_normal(df['IncomePerCap'].values, dist = 'exp')"
   ]
  },
  {
   "cell_type": "markdown",
   "metadata": {},
   "source": [
    "- p < 0.05 -> not exponential either!"
   ]
  },
  {
   "cell_type": "markdown",
   "metadata": {},
   "source": [
    "### 2. How to sample the data"
   ]
  },
  {
   "cell_type": "markdown",
   "metadata": {},
   "source": [
    "- Often we need to find random samples from the dataset. We can do so conveniently with pandas wrappers."
   ]
  },
  {
   "cell_type": "code",
   "execution_count": 9,
   "metadata": {},
   "outputs": [],
   "source": [
    "#make 10 samples with replacement\n",
    "sample1_counties = df.sample(n = 10, replace = True)\n",
    "\n",
    "#make 10 samples without replacement\n",
    "sample1_counties = df.sample(n = 10, replace = False)\n",
    "\n",
    "#sometimes we want to sample in an ublanaced way, so that we upsample datapoints of certain characteristic,\n",
    "#and downsample the others. this can be acieved with weights parameter\n",
    "#here we sample by upsampling counties with large population\n",
    "sample2_counties = df.sample(n = 10, replace = False, weights = df['TotalPop'])"
   ]
  },
  {
   "cell_type": "code",
   "execution_count": 10,
   "metadata": {},
   "outputs": [
    {
     "name": "stdout",
     "output_type": "stream",
     "text": [
      "488013.0\n",
      "783979.1\n"
     ]
    }
   ],
   "source": [
    "#on avergage, the samples in the sample produce with reveighting now have higher population, as we wanted!\n",
    "print(sample1_counties['TotalPop'].mean())\n",
    "print(sample2_counties['TotalPop'].mean())"
   ]
  },
  {
   "cell_type": "markdown",
   "metadata": {},
   "source": [
    "### 3. Examining relationship between two variables"
   ]
  },
  {
   "cell_type": "markdown",
   "metadata": {},
   "source": [
    "- Is income per capita of a county correlated with the unemployment?"
   ]
  },
  {
   "cell_type": "code",
   "execution_count": 11,
   "metadata": {},
   "outputs": [
    {
     "data": {
      "text/plain": [
       "(0.2646136320394489, 9.942215354237806e-53)"
      ]
     },
     "execution_count": 11,
     "metadata": {},
     "output_type": "execute_result"
    }
   ],
   "source": [
    "stats.pearsonr(df['IncomePerCap'],df['Employed'])"
   ]
  },
  {
   "cell_type": "markdown",
   "metadata": {},
   "source": [
    "- There is a small (0.26), but significant (p < 0.05) positive correlation."
   ]
  },
  {
   "cell_type": "code",
   "execution_count": 12,
   "metadata": {},
   "outputs": [
    {
     "data": {
      "text/plain": [
       "SpearmanrResult(correlation=0.30770631560595474, pvalue=1.415296431173735e-71)"
      ]
     },
     "execution_count": 12,
     "metadata": {},
     "output_type": "execute_result"
    }
   ],
   "source": [
    "stats.spearmanr(df['IncomePerCap'],df['Employed'])"
   ]
  },
  {
   "cell_type": "markdown",
   "metadata": {},
   "source": [
    "- Spearman rank coorrelation is also significant."
   ]
  },
  {
   "cell_type": "markdown",
   "metadata": {},
   "source": [
    "### 4. Hypothesis testing"
   ]
  },
  {
   "cell_type": "markdown",
   "metadata": {},
   "source": [
    "- Is income per capita higher in New York counties compared to California counties?"
   ]
  },
  {
   "cell_type": "code",
   "execution_count": 13,
   "metadata": {},
   "outputs": [
    {
     "data": {
      "text/plain": [
       "28189.75806451613"
      ]
     },
     "execution_count": 13,
     "metadata": {},
     "output_type": "execute_result"
    }
   ],
   "source": [
    "df.loc[df['State'] == 'New York']['IncomePerCap'].mean()"
   ]
  },
  {
   "cell_type": "code",
   "execution_count": 14,
   "metadata": {},
   "outputs": [
    {
     "data": {
      "text/plain": [
       "27902.603448275862"
      ]
     },
     "execution_count": 14,
     "metadata": {},
     "output_type": "execute_result"
    }
   ],
   "source": [
    "df.loc[df['State'] == 'California']['IncomePerCap'].mean()"
   ]
  },
  {
   "cell_type": "markdown",
   "metadata": {},
   "source": [
    "- We see that there is a ~300$ gap. Quite a lot!\n",
    "- But is it significantly higher? Let's use a t-test. This is a two-sided test for the null hypothesis that the two independent samples have identical average (expected) values. "
   ]
  },
  {
   "cell_type": "code",
   "execution_count": 15,
   "metadata": {},
   "outputs": [
    {
     "data": {
      "text/plain": [
       "Ttest_indResult(statistic=0.19788117232375713, pvalue=0.8434785239169611)"
      ]
     },
     "execution_count": 15,
     "metadata": {},
     "output_type": "execute_result"
    }
   ],
   "source": [
    "stats.ttest_ind(df.loc[df['State'] == 'New York']['IncomePerCap'], df.loc[df['State'] == 'California']['IncomePerCap'])"
   ]
  },
  {
   "cell_type": "markdown",
   "metadata": {},
   "source": [
    "- p is not smaller than 0.05 -> we cannot reject the null hypothesis that the income is the same -> there is no significant difference"
   ]
  },
  {
   "cell_type": "markdown",
   "metadata": {},
   "source": [
    "### 5. How to measure uncertainty\n",
    "- Now we see the importance of mesuring uncertainty and indicating it on data visualizations.\n",
    "- Visual inspection of 95% confidence intervals lets us see that the difference is not significant (the errorbars are overlapping)."
   ]
  },
  {
   "cell_type": "code",
   "execution_count": 11,
   "metadata": {},
   "outputs": [
    {
     "data": {
      "text/plain": "(25000.0, 32000.0)"
     },
     "execution_count": 11,
     "metadata": {},
     "output_type": "execute_result"
    },
    {
     "data": {
      "text/plain": "<Figure size 640x480 with 1 Axes>",
      "image/png": "[encoded data removed]"
     },
     "metadata": {},
     "output_type": "display_data"
    }
   ],
   "source": [
    "ax = sns.barplot(x=\"State\", y=\"IncomePerCap\", data=df.loc[df['State'].isin(['New York','California'])])\n",
    "plt.ylim([25000,32000])"
   ]
  },
  {
   "cell_type": "markdown",
   "metadata": {},
   "source": [
    "# Exercise 1: Boosting the economy by incentivizing self-employment\n",
    "\n",
    "Assume the biggest priority of the local government in 2018 is to increase per-capita income. To do so, the officials plan to adopt a strategy for incentivizing self-employment through a series of campaigns, educational programs, and dedicated funds.\n",
    "\n",
    "Since it is unethical and impossible in this setting to run a controlled experiment involving citizens (e.g., fire employees and force them to self-employ), the officials have asked you, the data scientist, to establish the effect of self-employment on the economy, relying on observational data.\n",
    "\n",
    "**A)** Using suitable methods, determine and quantify the dependency between the percentage of self-employed citizens and per capita income across all 3,212 US counties. Do citizens in counties that have a higher percentage of self-employed people earn more per capita?"
   ]
  },
  {
   "cell_type": "code",
   "execution_count": 12,
   "metadata": {},
   "outputs": [
    {
     "data": {
      "text/plain": "PearsonRResult(statistic=0.08727386609551727, pvalue=7.052861196525885e-07)"
     },
     "execution_count": 12,
     "metadata": {},
     "output_type": "execute_result"
    }
   ],
   "source": [
    "### your code and or answer here ###\n",
    "stats.pearsonr(df['IncomePerCap'],df['SelfEmployed'])"
   ]
  },
  {
   "cell_type": "markdown",
   "source": [
    "pvalue < 0.05 : there is low but positive correlation between IncomePerCap and self-employment"
   ],
   "metadata": {
    "collapsed": false
   }
  },
  {
   "cell_type": "markdown",
   "metadata": {},
   "source": [
    "**B)** The pilot program will involve all counties within a limited set of three US states. Set A includes Wisconsin, Tennessee, and  Minnesota. Quantify the dependency of per-capita income on self-employment rates across all the counties in set A."
   ]
  },
  {
   "cell_type": "code",
   "execution_count": 18,
   "metadata": {},
   "outputs": [
    {
     "data": {
      "text/plain": "PearsonRResult(statistic=-0.20229350736521495, pvalue=0.0011881639322138644)"
     },
     "execution_count": 18,
     "metadata": {},
     "output_type": "execute_result"
    }
   ],
   "source": [
    "### your code and or answer here ###\n",
    "df1 = df[df.State.isin(['Wisconsin', 'Tennessee', 'Minnesota'])]\n",
    "stats.pearsonr(df1['IncomePerCap'],df1['SelfEmployed'])"
   ]
  },
  {
   "cell_type": "markdown",
   "metadata": {},
   "source": [
    "**C)** In which state within set A is the observed effect of self-employment on per-capita income the strongest?"
   ]
  },
  {
   "cell_type": "code",
   "execution_count": 20,
   "metadata": {},
   "outputs": [
    {
     "name": "stdout",
     "output_type": "stream",
     "text": [
      "PearsonRResult(statistic=-0.32905300016378525, pvalue=0.004768134887745218)\n",
      "PearsonRResult(statistic=-0.2383604868491315, pvalue=0.020011631955528172)\n",
      "PearsonRResult(statistic=-0.2538551921654062, pvalue=0.01766519930091188)\n"
     ]
    }
   ],
   "source": [
    "### your code and or answer here ###\n",
    "Wisconsin_per_capita_self_empl = df1.query(\"State == 'Wisconsin'\")\n",
    "Tennessee_per_capita_self_empl = df1.query(\"State == 'Tennessee'\")\n",
    "Minnesota_per_capita_self_empl = df1.query(\"State == 'Minnesota'\")\n",
    "\n",
    "print(stats.pearsonr(Wisconsin_per_capita_self_empl['SelfEmployed'],Wisconsin_per_capita_self_empl['IncomePerCap']))\n",
    "print(stats.pearsonr(Tennessee_per_capita_self_empl['SelfEmployed'],Tennessee_per_capita_self_empl['IncomePerCap']))\n",
    "print(stats.pearsonr(Minnesota_per_capita_self_empl['SelfEmployed'],Minnesota_per_capita_self_empl['IncomePerCap']))"
   ]
  },
  {
   "cell_type": "markdown",
   "metadata": {},
   "source": [
    "**D)** Set B includes New Jersey, Kansas, and Rhode Island. Repeat the analysis from steps B and C above, but now for set B. In which of the two sets A and B (if any) would you recommend incentivizing self-employment? Explain your reasoning. Hint: It is useful to add a notion of confidence to your results and explore the data visually."
   ]
  },
  {
   "cell_type": "code",
   "execution_count": 29,
   "metadata": {},
   "outputs": [
    {
     "name": "stdout",
     "output_type": "stream",
     "text": [
      "PearsonRResult(statistic=-0.23222141346085692, pvalue=0.0076074930428573165)\n",
      "PearsonRResult(statistic=0.4804478471336282, pvalue=0.027488944757806215)\n",
      "PearsonRResult(statistic=0.25810299714436924, pvalue=0.007853351846832413)\n",
      "PearsonRResult(statistic=0.9021788382149805, pvalue=0.036183102015759167)\n"
     ]
    },
    {
     "name": "stderr",
     "output_type": "stream",
     "text": [
      "C:\\Users\\ratas\\.conda\\envs\\ada\\lib\\site-packages\\seaborn\\axisgrid.py:118: UserWarning: The figure layout has changed to tight\n",
      "  self._figure.tight_layout(*args, **kwargs)\n"
     ]
    },
    {
     "data": {
      "text/plain": "<seaborn.axisgrid.FacetGrid at 0x2ac33cadbb0>"
     },
     "execution_count": 29,
     "metadata": {},
     "output_type": "execute_result"
    },
    {
     "data": {
      "text/plain": "<Figure size 632x500 with 1 Axes>",
      "image/png": "[encoded data removed]"
     },
     "metadata": {},
     "output_type": "display_data"
    }
   ],
   "source": [
    "### your code and or answer here ###\n",
    "df2 = df[df.State.isin(['New Jersey', 'Kansas', 'Rhode Island'])]\n",
    "print(stats.pearsonr(df2['IncomePerCap'],df2['SelfEmployed']))\n",
    "### your code and or answer here ###\n",
    "Wisconsin_per_capita_self_empl = df2.query(\"State == 'New Jersey'\")\n",
    "Tennessee_per_capita_self_empl = df2.query(\"State == 'Kansas'\")\n",
    "Minnesota_per_capita_self_empl = df2.query(\"State == 'Rhode Island'\")\n",
    "\n",
    "print(stats.pearsonr(Wisconsin_per_capita_self_empl['SelfEmployed'],Wisconsin_per_capita_self_empl['IncomePerCap']))\n",
    "print(stats.pearsonr(Tennessee_per_capita_self_empl['SelfEmployed'],Tennessee_per_capita_self_empl['IncomePerCap']))\n",
    "print(stats.pearsonr(Minnesota_per_capita_self_empl['SelfEmployed'],Minnesota_per_capita_self_empl['IncomePerCap']))\n",
    "\n",
    "sns.lmplot(data = df2, y = 'IncomePerCap', x = 'SelfEmployed', hue= 'State')"
   ]
  },
  {
   "cell_type": "markdown",
   "metadata": {},
   "source": [
    "# Exercise 2. Data visualization and read the stats comprehension and interpretation questions.\n",
    "\n",
    "- As part of the quizes, two homeworks and the final exam, you will be at times asked to interpret your result based on the understanding of underlying concepts. The questions below can help you practice and get a sense of how well you understand the concepts covered in the class so far. Can you answer these questions confidently?"
   ]
  },
  {
   "cell_type": "markdown",
   "metadata": {},
   "source": [
    "### Question 1. The yearly salaries (in thousands of CHF) of 7000 people are summarized in the following box plot. If the 20th percentile of the salaries is 110,000, how many people earn between 110,000 and 114,000?\n",
    "\n",
    "- a) 2100\n",
    "- b) 700\n",
    "- c) 350\n",
    "- d) 70"
   ]
  },
  {
   "cell_type": "markdown",
   "metadata": {},
   "source": [
    "<img src=\"boxplot.png\" style=\"width: 400px;\" align=\"left\"/>"
   ]
  },
  {
   "cell_type": "code",
   "execution_count": 33,
   "metadata": {},
   "outputs": [
    {
     "data": {
      "text/plain": "350.0"
     },
     "execution_count": 33,
     "metadata": {},
     "output_type": "execute_result"
    }
   ],
   "source": [
    "### your code and or answer here ###\n",
    "7000 * 5 / 100"
   ]
  },
  {
   "cell_type": "markdown",
   "metadata": {},
   "source": [
    "### Question 2. What visualizations are suitable for getting insights about the distribution of a single continuous variable?\n",
    "\n",
    "- a) Barplot and histogram\n",
    "- b) Boxplot and histogram\n",
    "- c) Scatterplot and boxplot\n",
    "- d) Barplot, boxplot, and histogram"
   ]
  },
  {
   "cell_type": "code",
   "execution_count": 35,
   "metadata": {},
   "outputs": [
    {
     "name": "stdout",
     "output_type": "stream",
     "text": [
      "b) Boxplot and histogram\n"
     ]
    }
   ],
   "source": [
    "### your code and or answer here ###\n",
    "print('b) Boxplot and histogram')"
   ]
  },
  {
   "cell_type": "markdown",
   "metadata": {},
   "source": [
    "### Question 3. In a new groundbreaking study, 28 out of 100 patients reported improvements after taking a new medicine. It is known that, when given a placebo, 20% of the patients report feeling better. What is the p-value assuming the null hypothesis that the probability of successful treatment in this groundbreaking study is the same as the probability of reporting feeling better under placebo, according to a one-sided binomial test? Hint: you may use the statsmodels.stats.proportion.binom_test function.\n",
    "\n",
    "- a) 0.00034\n",
    "- b) 0.0034\n",
    "- c) 0.034\n",
    "- d) 0.34"
   ]
  },
  {
   "cell_type": "code",
   "execution_count": 47,
   "metadata": {},
   "outputs": [
    {
     "name": "stdout",
     "output_type": "stream",
     "text": [
      "c) 0.034 -  0.03415162963907485\n"
     ]
    },
    {
     "name": "stderr",
     "output_type": "stream",
     "text": [
      "C:\\Users\\ratas\\AppData\\Local\\Temp\\ipykernel_4740\\357547858.py:2: DeprecationWarning: 'binom_test' is deprecated in favour of 'binomtest' from version 1.7.0 and will be removed in Scipy 1.12.0.\n",
      "  p = stats.binom_test(28, n=100, p=0.2, alternative='greater')\n"
     ]
    }
   ],
   "source": [
    "### your code and or answer here ###\n",
    "p = stats.binom_test(28, n=100, p=0.2, alternative='greater')\n",
    "print('c) 0.034 - ', p)"
   ]
  },
  {
   "cell_type": "markdown",
   "metadata": {},
   "source": [
    "### Question 4. The 95% confidence interval of the average height of 1000 people using bootstrap resampling with 10000 bootstrap samples is calculated by:\n",
    "\n",
    "- a) Sampling 1000 height values with replacement and computing the mean. This is repeated 10000 times to create a sorted list of the 10000 means. The CI is defined by the 500th and the 9500th value in sorted order.\n",
    "- b) Sampling 10000 height values without replacement and computing the mean. This is repeated 1000 times to create a sorted list of the 1000 means. The CI is defined by the 25th and the 975th value in sorted order.\n",
    "- c) Sampling 1000 height values with replacement and computing the mean. This is repeated 10000 times to create a sorted list of the 10000 means. The CI is defined by the 250th and the 9750th value in sorted order.\n",
    "- d) Sampling 1000 height values without replacement and computing the mean. This is repeated 10000 times to create a sorted list of the 10000 means. The CI is defined by the 500th and the 9500th value in sorted order.\n",
    "\n",
    "### Implement your bootstrapping function that you will use in the rest of the course. It should take an array and the number of iterations as inputs, and output 95% confidence intervals of the mean."
   ]
  },
  {
   "cell_type": "code",
   "execution_count": 58,
   "metadata": {},
   "outputs": [
    {
     "data": {
      "text/plain": "(23764.63444099379, 24199.637236024846)"
     },
     "execution_count": 58,
     "metadata": {},
     "output_type": "execute_result"
    }
   ],
   "source": [
    "###  C  ###\n",
    "\n",
    "def bootstrap_mean_ci(data, iterations):\n",
    "    means = []\n",
    "    for i in range(iterations):\n",
    "        sample = np.random.choice(data, size=len(data), replace=True)\n",
    "        means.append(sample.mean())\n",
    "    return np.percentile(means, 2.5), np.percentile(means, 97.5)\n",
    "\n",
    "bootstrap_mean_ci(df['IncomePerCap'], 10000)"
   ]
  },
  {
   "cell_type": "markdown",
   "metadata": {},
   "source": [
    "### Question 5. A study conducted at EPFL revealed a negative Spearman’s correlation between GPA and entry-level job salary. Which of the following statements is true?\n",
    "\n",
    "- a) There could be a positive Spearman’s correlation between GPA and entry-level job salary in every single department of EPFL.\n",
    "- b) Spearman correlation between GPA and entry-level job salary in every single department has to be positive.\n",
    "- c) Across all levels, as opposed to entry-level only, higher GPA scores are associated with higher job salaries.\n",
    "- d) We can infer that finishing EPFL with a higher GPA causes you to have a lower entry-level job salary."
   ]
  },
  {
   "cell_type": "code",
   "execution_count": 1,
   "metadata": {},
   "outputs": [
    {
     "name": "stdout",
     "output_type": "stream",
     "text": [
      "a) There could be a positive Spearman’s correlation between GPA and entry-level job salary in every single department of EPFL.\n"
     ]
    }
   ],
   "source": [
    "### your code and or answer here ###\n",
    "\n",
    "print('a) There could be a positive Spearman’s correlation between GPA and entry-level job salary in every single department of EPFL.')"
   ]
  },
  {
   "cell_type": "markdown",
   "metadata": {},
   "source": [
    "### Question 6. The average number of requests per page during a day on a large website is 200, while the median is 15. \n",
    "\n",
    "- a) You can assume that the distribution is heavy-tailed.\n",
    "- b) You are dealing with a left-skewed distribution.\n",
    "- c) Half of the pages get more than 200 requests.\n",
    "- d) None of the above."
   ]
  },
  {
   "cell_type": "code",
   "execution_count": 2,
   "metadata": {},
   "outputs": [
    {
     "name": "stdout",
     "output_type": "stream",
     "text": [
      "A & B\n"
     ]
    }
   ],
   "source": [
    "### your code and or answer here ###\n",
    "print('A & B')"
   ]
  }
 ],
 "metadata": {
  "kernelspec": {
   "name": "conda-env-.conda-ada-py",
   "language": "python",
   "display_name": "Python [conda env:.conda-ada] *"
  },
  "language_info": {
   "codemirror_mode": {
    "name": "ipython",
    "version": 3
   },
   "file_extension": ".py",
   "mimetype": "text/x-python",
   "name": "python",
   "nbconvert_exporter": "python",
   "pygments_lexer": "ipython3",
   "version": "3.9.13"
  },
  "varInspector": {
   "cols": {
    "lenName": 16,
    "lenType": 16,
    "lenVar": 40
   },
   "kernels_config": {
    "python": {
     "delete_cmd_postfix": "",
     "delete_cmd_prefix": "del ",
     "library": "var_list.py",
     "varRefreshCmd": "print(var_dic_list())"
    },
    "r": {
     "delete_cmd_postfix": ") ",
     "delete_cmd_prefix": "rm(",
     "library": "var_list.r",
     "varRefreshCmd": "cat(var_dic_list()) "
    }
   },
   "types_to_exclude": [
    "module",
    "function",
    "builtin_function_or_method",
    "instance",
    "_Feature"
   ],
   "window_display": false
  }
 },
 "nbformat": 4,
 "nbformat_minor": 4
}
