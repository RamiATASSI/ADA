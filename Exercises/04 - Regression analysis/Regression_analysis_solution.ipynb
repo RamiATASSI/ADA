{
 "cells": [
  {
   "cell_type": "markdown",
   "metadata": {},
   "source": [
    "### Welcome! In this lab session, you will familiarize yourself with regression analysis. We will learn how to do descriptive regression analysis in python. We will use the statsmodels library. After an introductory tutorial, you will work on solving an exercise that we prepared for you.\n",
    "\n",
    "### References:\n",
    "- More information on formula syntax: https://patsy.readthedocs.io/en/latest/formulas.html\n",
    "- More information on statsmodels: https://www.statsmodels.org/dev/example_formulas.html"
   ]
  },
  {
   "cell_type": "code",
   "execution_count": 1,
   "metadata": {},
   "outputs": [],
   "source": [
    "import pandas as pd\n",
    "import pandas as pd\n",
    "import numpy as np\n",
    "import matplotlib.pyplot as plt\n",
    "%matplotlib inline\n",
    "import seaborn as sns\n",
    "import math\n",
    "from statsmodels.stats import diagnostic\n",
    "from scipy import stats\n",
    "import statsmodels.api as sm\n",
    "import statsmodels.formula.api as smf"
   ]
  },
  {
   "cell_type": "code",
   "execution_count": 2,
   "metadata": {
    "tags": []
   },
   "outputs": [],
   "source": [
    "data_folder = './data/'\n",
    "df = pd.read_csv(data_folder + 'heart_failure_clinical_records_dataset.csv')"
   ]
  },
  {
   "cell_type": "markdown",
   "metadata": {},
   "source": [
    "## Statsmodels tutorial\n",
    "\n",
    "We will use a dataset with information about patients with cardiovascular diseases. Here is the breakdown of columns:\n",
    "\n",
    "Some variables are categorical:\n",
    "- 'DEATH_EVENT': if the patient deceased during the follow-up period\n",
    "- 'sex': male/female (binary, male 1, female 0)\n",
    "- 'anaemia': decrease of red blood cells (boolean, yes 1)\n",
    "- 'smoking': if the patient smokes or not (boolean, yes 1)\n",
    "- 'diabetes': if the patient has diabetes (boolean, yes 1)\n",
    "- 'high_blood_pressure': if the person has hypertension (boolean, yes 1)\n",
    "\n",
    "\n",
    "... and some are continuous/discrete:\n",
    "- 'age': patient's age\n",
    "- 'creatinine_phosphokinase': level of CPK enzyme in the blood (mcg/L)\n",
    "- 'ejection_fraction': percentage of blood leaving the heart in each contraction\n",
    "- 'platelets': platelets in the blood (kiloplatelets/mL)\n",
    "- 'serum_creatinine': level of serum creatinine in the blood (mg/dL)\n",
    "- 'serum_sodium': level of serum sodium in the blood (mEq/L)\n",
    "- 'time': duration of the follow-up period (number of days in the hospital)\n"
   ]
  },
  {
   "cell_type": "code",
   "execution_count": 3,
   "metadata": {},
   "outputs": [
    {
     "data": {
      "text/plain": "      age  anaemia  creatinine_phosphokinase  diabetes  ejection_fraction  \\\n271  51.0        0                       582         1                 40   \n139  50.0        0                      1548         0                 30   \n242  40.0        0                        90         0                 35   \n151  62.0        0                        30         1                 60   \n93   60.0        1                       154         0                 25   \n199  60.0        0                      1211         1                 35   \n114  60.0        1                       754         1                 40   \n223  47.0        0                       582         0                 25   \n63   45.0        0                       582         0                 35   \n102  80.0        0                       898         0                 25   \n\n     high_blood_pressure  platelets  serum_creatinine  serum_sodium  sex  \\\n271                    0  221000.00               0.9           134    0   \n139                    1  211000.00               0.8           138    1   \n242                    0  255000.00               1.1           136    1   \n151                    1  244000.00               0.9           139    1   \n93                     0  210000.00               1.7           135    1   \n199                    0  263358.03               1.8           113    1   \n114                    1  328000.00               1.2           126    1   \n223                    0  130000.00               0.8           134    1   \n63                     0  385000.00               1.0           145    1   \n102                    0  149000.00               1.1           144    1   \n\n     smoking  time  DEATH_EVENT  \n271        0   244            0  \n139        0   108            0  \n242        1   212            0  \n151        0   117            0  \n93         0    82            1  \n199        1   186            0  \n114        0    91            0  \n223        0   201            0  \n63         0    61            1  \n102        1    87            0  ",
      "text/html": "<div>\n<style scoped>\n    .dataframe tbody tr th:only-of-type {\n        vertical-align: middle;\n    }\n\n    .dataframe tbody tr th {\n        vertical-align: top;\n    }\n\n    .dataframe thead th {\n        text-align: right;\n    }\n</style>\n<table border=\"1\" class=\"dataframe\">\n  <thead>\n    <tr style=\"text-align: right;\">\n      <th></th>\n      <th>age</th>\n      <th>anaemia</th>\n      <th>creatinine_phosphokinase</th>\n      <th>diabetes</th>\n      <th>ejection_fraction</th>\n      <th>high_blood_pressure</th>\n      <th>platelets</th>\n      <th>serum_creatinine</th>\n      <th>serum_sodium</th>\n      <th>sex</th>\n      <th>smoking</th>\n      <th>time</th>\n      <th>DEATH_EVENT</th>\n    </tr>\n  </thead>\n  <tbody>\n    <tr>\n      <th>271</th>\n      <td>51.0</td>\n      <td>0</td>\n      <td>582</td>\n      <td>1</td>\n      <td>40</td>\n      <td>0</td>\n      <td>221000.00</td>\n      <td>0.9</td>\n      <td>134</td>\n      <td>0</td>\n      <td>0</td>\n      <td>244</td>\n      <td>0</td>\n    </tr>\n    <tr>\n      <th>139</th>\n      <td>50.0</td>\n      <td>0</td>\n      <td>1548</td>\n      <td>0</td>\n      <td>30</td>\n      <td>1</td>\n      <td>211000.00</td>\n      <td>0.8</td>\n      <td>138</td>\n      <td>1</td>\n      <td>0</td>\n      <td>108</td>\n      <td>0</td>\n    </tr>\n    <tr>\n      <th>242</th>\n      <td>40.0</td>\n      <td>0</td>\n      <td>90</td>\n      <td>0</td>\n      <td>35</td>\n      <td>0</td>\n      <td>255000.00</td>\n      <td>1.1</td>\n      <td>136</td>\n      <td>1</td>\n      <td>1</td>\n      <td>212</td>\n      <td>0</td>\n    </tr>\n    <tr>\n      <th>151</th>\n      <td>62.0</td>\n      <td>0</td>\n      <td>30</td>\n      <td>1</td>\n      <td>60</td>\n      <td>1</td>\n      <td>244000.00</td>\n      <td>0.9</td>\n      <td>139</td>\n      <td>1</td>\n      <td>0</td>\n      <td>117</td>\n      <td>0</td>\n    </tr>\n    <tr>\n      <th>93</th>\n      <td>60.0</td>\n      <td>1</td>\n      <td>154</td>\n      <td>0</td>\n      <td>25</td>\n      <td>0</td>\n      <td>210000.00</td>\n      <td>1.7</td>\n      <td>135</td>\n      <td>1</td>\n      <td>0</td>\n      <td>82</td>\n      <td>1</td>\n    </tr>\n    <tr>\n      <th>199</th>\n      <td>60.0</td>\n      <td>0</td>\n      <td>1211</td>\n      <td>1</td>\n      <td>35</td>\n      <td>0</td>\n      <td>263358.03</td>\n      <td>1.8</td>\n      <td>113</td>\n      <td>1</td>\n      <td>1</td>\n      <td>186</td>\n      <td>0</td>\n    </tr>\n    <tr>\n      <th>114</th>\n      <td>60.0</td>\n      <td>1</td>\n      <td>754</td>\n      <td>1</td>\n      <td>40</td>\n      <td>1</td>\n      <td>328000.00</td>\n      <td>1.2</td>\n      <td>126</td>\n      <td>1</td>\n      <td>0</td>\n      <td>91</td>\n      <td>0</td>\n    </tr>\n    <tr>\n      <th>223</th>\n      <td>47.0</td>\n      <td>0</td>\n      <td>582</td>\n      <td>0</td>\n      <td>25</td>\n      <td>0</td>\n      <td>130000.00</td>\n      <td>0.8</td>\n      <td>134</td>\n      <td>1</td>\n      <td>0</td>\n      <td>201</td>\n      <td>0</td>\n    </tr>\n    <tr>\n      <th>63</th>\n      <td>45.0</td>\n      <td>0</td>\n      <td>582</td>\n      <td>0</td>\n      <td>35</td>\n      <td>0</td>\n      <td>385000.00</td>\n      <td>1.0</td>\n      <td>145</td>\n      <td>1</td>\n      <td>0</td>\n      <td>61</td>\n      <td>1</td>\n    </tr>\n    <tr>\n      <th>102</th>\n      <td>80.0</td>\n      <td>0</td>\n      <td>898</td>\n      <td>0</td>\n      <td>25</td>\n      <td>0</td>\n      <td>149000.00</td>\n      <td>1.1</td>\n      <td>144</td>\n      <td>1</td>\n      <td>1</td>\n      <td>87</td>\n      <td>0</td>\n    </tr>\n  </tbody>\n</table>\n</div>"
     },
     "execution_count": 3,
     "metadata": {},
     "output_type": "execute_result"
    }
   ],
   "source": [
    "df.sample(10)"
   ]
  },
  {
   "cell_type": "code",
   "execution_count": 4,
   "metadata": {},
   "outputs": [
    {
     "data": {
      "text/plain": "299"
     },
     "execution_count": 4,
     "metadata": {},
     "output_type": "execute_result"
    }
   ],
   "source": [
    "# 299 patients\n",
    "len(df)"
   ]
  },
  {
   "cell_type": "markdown",
   "metadata": {},
   "source": [
    "## Part 1 Linear regression: Modelling time spent at the hospital\n",
    "\n",
    "- We will perform a regression analysis to model the number of days spent at the hospital, among the population of patients.\n",
    "\n",
    "\n",
    "- To get started with our model, we need two components:\n",
    "\n",
    "   1. The equation describing the model\n",
    "   2. The data\n",
    "   \n",
    "   \n",
    "- Equations are specified using patsy formula syntax. Important operators are:\n",
    "    1. `~` : Separates the left-hand side and right-hand side of a formula.\n",
    "    2. `+` : Creates a union of terms that are included in the model.\n",
    "    3. `:` : Interaction term.\n",
    "    3. `*` : `a * b` is short-hand for `a + b + a:b`, and is useful for the common case of wanting to include all interactions between a set of variables.\n",
    "    \n",
    "    \n",
    "- Intercepts are added by default.\n",
    "\n",
    "\n",
    "- Categorical variables can be included directly by adding a term C(a). More on that soon!\n",
    "\n",
    "\n",
    "- For (2), we can conveniently use pandas dataframe.\n",
    "\n",
    "### An example\n",
    "\n",
    "- Let's start with an example from our dataset. We are interested in two predictors: diabetes and high blood pressure. These are the two predictors that we want to use to fit the outcome, the number of days spent at the hospital, using a linear regression.\n",
    "\n",
    "- A model that achieves this is formulated as:\n",
    "        time ~ C(diabetes) + C(high_blood_pressure)\n",
    "        \n",
    "- We can create this model using smf.ols().\n",
    "\n",
    "- OLS stands for ordinary least squares linear regression.\n",
    "\n",
    "- The two components: the formula and the data are stated explicitly.\n",
    "\n",
    "- The terms in the formula are columns in pandas dataframe. Easy!"
   ]
  },
  {
   "cell_type": "code",
   "execution_count": 5,
   "metadata": {
    "tags": []
   },
   "outputs": [],
   "source": [
    "# Declares the model\n",
    "mod = smf.ols(formula='time ~ C(diabetes) + C(high_blood_pressure)', data=df)"
   ]
  },
  {
   "cell_type": "code",
   "execution_count": 6,
   "metadata": {
    "tags": []
   },
   "outputs": [],
   "source": [
    "# Fits the model (find the optimal coefficients, adding a random seed ensures consistency)\n",
    "np.random.seed(2)\n",
    "res = mod.fit()"
   ]
  },
  {
   "cell_type": "code",
   "execution_count": 7,
   "metadata": {},
   "outputs": [
    {
     "name": "stdout",
     "output_type": "stream",
     "text": [
      "                            OLS Regression Results                            \n",
      "==============================================================================\n",
      "Dep. Variable:                   time   R-squared:                       0.040\n",
      "Model:                            OLS   Adj. R-squared:                  0.033\n",
      "Method:                 Least Squares   F-statistic:                     6.097\n",
      "Date:                Wed, 15 Nov 2023   Prob (F-statistic):            0.00254\n",
      "Time:                        19:06:12   Log-Likelihood:                -1718.9\n",
      "No. Observations:                 299   AIC:                             3444.\n",
      "Df Residuals:                     296   BIC:                             3455.\n",
      "Df Model:                           2                                         \n",
      "Covariance Type:            nonrobust                                         \n",
      "===============================================================================================\n",
      "                                  coef    std err          t      P>|t|      [0.025      0.975]\n",
      "-----------------------------------------------------------------------------------------------\n",
      "Intercept                     139.3851      6.658     20.934      0.000     126.282     152.489\n",
      "C(diabetes)[T.1]                4.9059      8.949      0.548      0.584     -12.706      22.518\n",
      "C(high_blood_pressure)[T.1]   -31.8228      9.247     -3.441      0.001     -50.021     -13.624\n",
      "==============================================================================\n",
      "Omnibus:                      159.508   Durbin-Watson:                   0.076\n",
      "Prob(Omnibus):                  0.000   Jarque-Bera (JB):               18.166\n",
      "Skew:                           0.076   Prob(JB):                     0.000114\n",
      "Kurtosis:                       1.802   Cond. No.                         2.82\n",
      "==============================================================================\n",
      "\n",
      "Notes:\n",
      "[1] Standard Errors assume that the covariance matrix of the errors is correctly specified.\n"
     ]
    }
   ],
   "source": [
    "# Print thes summary output provided by the library.\n",
    "print(res.summary())"
   ]
  },
  {
   "cell_type": "markdown",
   "metadata": {},
   "source": [
    "### A lot of useful information is provided by default.\n",
    "\n",
    "- The dependent variable : time (number of days at the hospital)\n",
    "- Method: The type of model that was fitted (OLS)\n",
    "- Nb observations: The number of datapoints (299 patients)\n",
    "- R2: The fraction of explained variance\n",
    "- A list of predictors\n",
    "- For each predictor: coefficient, standard error of the coefficients, p-value, 95% confidence intervals. We can see that only high blood pressure is a significant predictor (p = 0.001), while diabetes is not (0.584).\n",
    "- Warnings if there are numerical issues (hopefully not!)"
   ]
  },
  {
   "cell_type": "markdown",
   "metadata": {},
   "source": [
    "### Now, we can interpret the model that we just fitted.\n",
    "\n",
    "- Notice how C(diabetes)[T.1] is created based on the original diabetes feature. This means that the dummy variable is encoded such that the associated coefficient tells us about the value among the diabetes = yes subpopulation.\n",
    "\n",
    "\n",
    "- We interpret the model in the following way: days at hospital = 139 + 4.9 * diabetes - 31.8 * high blood pressure. Thus:\n",
    "    1. People who don't have diabetes nor high blood pressure stay at the hospital on average for 139 days\n",
    "    2. People who have diabetes, but don't have blood pressure stay for 139 + 4.9 days ~ 144 days\n",
    "    3. People who don't have diabetes, but have blood pressure stay for 139 - 31 days ~ 108 days\n",
    "    4. People who have diabetes and blood pressure stay for 139 + 4.9 - 31.8 ~ 112 days\n",
    "    \n",
    "- We calculate the means explicitly to make sure they are the same as what we just calculated with regression!"
   ]
  },
  {
   "cell_type": "code",
   "execution_count": 8,
   "metadata": {},
   "outputs": [
    {
     "name": "stdout",
     "output_type": "stream",
     "text": [
      "139.0\n",
      "144.8170731707317\n",
      "108.25806451612904\n",
      "111.46511627906976\n"
     ]
    }
   ],
   "source": [
    "print(df.loc[(df['diabetes'] == 0) & (df[\"high_blood_pressure\"] == 0)]['time'].mean())\n",
    "print(df.loc[(df['diabetes'] == 1) & (df[\"high_blood_pressure\"] == 0)]['time'].mean())\n",
    "print(df.loc[(df['diabetes'] == 0) & (df[\"high_blood_pressure\"] == 1)]['time'].mean())\n",
    "print(df.loc[(df['diabetes'] == 1) & (df[\"high_blood_pressure\"] == 1)]['time'].mean())"
   ]
  },
  {
   "cell_type": "markdown",
   "metadata": {},
   "source": [
    "- Isn't it strange that high blood pressure has a negative coefficient? It seems like the patients who have high blood pressure stay at the hospital for shorter number of days, even though one would expect the opposite. Lets' get to that!"
   ]
  },
  {
   "cell_type": "markdown",
   "metadata": {},
   "source": [
    "## Part 2 Linear regression with interaction terms: Modelling time spent at the hospital V2"
   ]
  },
  {
   "cell_type": "markdown",
   "metadata": {},
   "source": [
    "- One reason why serious conditions can be associated with lower time spent at the hospital is because of a third confounding factor: death 💀. Patients who have a serious condition might spend less time at the hospital because they die.\n",
    "\n",
    "- Let's get a better sense of what is happening by modeling the time spent at the hospital with death as a predictor.\n",
    "\n",
    "- This time we will add interaction features."
   ]
  },
  {
   "cell_type": "code",
   "execution_count": 9,
   "metadata": {},
   "outputs": [
    {
     "name": "stdout",
     "output_type": "stream",
     "text": [
      "                            OLS Regression Results                            \n",
      "==============================================================================\n",
      "Dep. Variable:                   time   R-squared:                       0.303\n",
      "Model:                            OLS   Adj. R-squared:                  0.293\n",
      "Method:                 Least Squares   F-statistic:                     31.92\n",
      "Date:                Wed, 15 Nov 2023   Prob (F-statistic):           4.32e-22\n",
      "Time:                        19:06:12   Log-Likelihood:                -1671.0\n",
      "No. Observations:                 299   AIC:                             3352.\n",
      "Df Residuals:                     294   BIC:                             3371.\n",
      "Df Model:                           4                                         \n",
      "Covariance Type:            nonrobust                                         \n",
      "===========================================================================================================================================\n",
      "                                                                              coef    std err          t      P>|t|      [0.025      0.975]\n",
      "-------------------------------------------------------------------------------------------------------------------------------------------\n",
      "Intercept                                                                 164.8348      6.476     25.452      0.000     152.089     177.581\n",
      "C(high_blood_pressure)[T.1]                                               -26.1462      9.781     -2.673      0.008     -45.395      -6.897\n",
      "C(DEATH_EVENT, Treatment(reference=0))[T.1]                               -86.4520     10.286     -8.405      0.000    -106.696     -66.208\n",
      "C(diabetes)[T.1]                                                            4.7903      7.655      0.626      0.532     -10.275      19.855\n",
      "C(high_blood_pressure)[T.1]:C(DEATH_EVENT, Treatment(reference=0))[T.1]     2.7778     16.725      0.166      0.868     -30.137      35.693\n",
      "==============================================================================\n",
      "Omnibus:                       34.161   Durbin-Watson:                   0.484\n",
      "Prob(Omnibus):                  0.000   Jarque-Bera (JB):               11.463\n",
      "Skew:                           0.185   Prob(JB):                      0.00324\n",
      "Kurtosis:                       2.115   Cond. No.                         6.31\n",
      "==============================================================================\n",
      "\n",
      "Notes:\n",
      "[1] Standard Errors assume that the covariance matrix of the errors is correctly specified.\n"
     ]
    }
   ],
   "source": [
    "# we use a*b to add terms: a, b, a:b, and intercept\n",
    "\n",
    "mod = smf.ols(formula='time ~ C(high_blood_pressure) * C(DEATH_EVENT,  Treatment(reference=0)) + C(diabetes)',\n",
    "              data=df)\n",
    "\n",
    "res = mod.fit()\n",
    "\n",
    "print(res.summary())"
   ]
  },
  {
   "cell_type": "markdown",
   "metadata": {},
   "source": [
    "### Interpretation:"
   ]
  },
  {
   "cell_type": "markdown",
   "metadata": {},
   "source": [
    "- This model lets us see that death is associated with a lower number of days spent at the hospital.\n",
    "- Notice how R2 is much larger compared to the previous model: more variance in the data is explained.\n",
    "- Those that have high blood pressure stay for less time (-26 days on average), those who have blood pressure __and__ die spend 2.7 days more hospitalized on average, although this is not statistically significant."
   ]
  },
  {
   "cell_type": "markdown",
   "metadata": {},
   "source": [
    "## Part 3 Logistic regression: Modelling the binary death outcome"
   ]
  },
  {
   "cell_type": "markdown",
   "metadata": {},
   "source": [
    "- Finally, let's model the binary outcome of death, based on all patients' features.\n",
    "- We will exclude time spent at the hospital, since we saw how it is strongly correlated with death."
   ]
  },
  {
   "cell_type": "markdown",
   "metadata": {},
   "source": [
    "### First, we will do standardization of continuous predictors. This will let us interpret the predictors that are of vastly different scales (from percents to thousands)."
   ]
  },
  {
   "cell_type": "code",
   "execution_count": 10,
   "metadata": {
    "tags": []
   },
   "outputs": [],
   "source": [
    "# how we standardize the countinuous variables\n",
    "\n",
    "df['age'] = (df['age'] - df['age'].mean())/df['age'].std()\n",
    "df['creatinine_phosphokinase'] = (df['creatinine_phosphokinase'] - df['creatinine_phosphokinase'].mean())/df['creatinine_phosphokinase'].std()\n",
    "df['ejection_fraction'] = (df['ejection_fraction'] - df['ejection_fraction'].mean())/df['ejection_fraction'].std()\n",
    "df['platelets'] = (df['platelets'] - df['platelets'].mean())/df['platelets'].std()\n",
    "df['serum_creatinine'] = (df['serum_creatinine'] - df['serum_creatinine'].mean())/df['serum_creatinine'].std()\n",
    "df['serum_sodium'] = (df['serum_sodium'] - df['serum_sodium'].mean())/df['serum_sodium'].std()"
   ]
  },
  {
   "cell_type": "markdown",
   "metadata": {},
   "source": [
    "### Instead of linear, we will now use a logistic regression to model the binary outcome."
   ]
  },
  {
   "cell_type": "code",
   "execution_count": 11,
   "metadata": {},
   "outputs": [
    {
     "name": "stdout",
     "output_type": "stream",
     "text": [
      "Optimization terminated successfully.\n",
      "         Current function value: 0.492108\n",
      "         Iterations 6\n",
      "                           Logit Regression Results                           \n",
      "==============================================================================\n",
      "Dep. Variable:            DEATH_EVENT   No. Observations:                  299\n",
      "Model:                          Logit   Df Residuals:                      287\n",
      "Method:                           MLE   Df Model:                           11\n",
      "Date:                Wed, 15 Nov 2023   Pseudo R-squ.:                  0.2160\n",
      "Time:                        19:06:13   Log-Likelihood:                -147.14\n",
      "converged:                       True   LL-Null:                       -187.67\n",
      "Covariance Type:            nonrobust   LLR p-value:                 9.169e-13\n",
      "===============================================================================================\n",
      "                                  coef    std err          z      P>|z|      [0.025      0.975]\n",
      "-----------------------------------------------------------------------------------------------\n",
      "Intercept                      -1.1633      0.362     -3.214      0.001      -1.873      -0.454\n",
      "C(diabetes)[T.1]                0.1514      0.297      0.509      0.611      -0.431       0.734\n",
      "C(high_blood_pressure)[T.1]     0.4189      0.306      1.369      0.171      -0.181       1.019\n",
      "C(sex)[T.1]                    -0.3990      0.351     -1.137      0.255      -1.087       0.289\n",
      "C(anaemia)[T.1]                 0.4179      0.301      1.389      0.165      -0.172       1.008\n",
      "C(smoking)[T.1]                 0.1356      0.349      0.389      0.697      -0.548       0.819\n",
      "age                             0.6624      0.156      4.241      0.000       0.356       0.969\n",
      "creatinine_phosphokinase        0.2819      0.139      2.034      0.042       0.010       0.553\n",
      "ejection_fraction              -0.8322      0.176     -4.731      0.000      -1.177      -0.487\n",
      "platelets                      -0.0694      0.158     -0.439      0.661      -0.379       0.241\n",
      "serum_creatinine                0.6847      0.179      3.817      0.000       0.333       1.036\n",
      "serum_sodium                   -0.2500      0.147     -1.698      0.090      -0.539       0.039\n",
      "===============================================================================================\n"
     ]
    }
   ],
   "source": [
    "# logit is logistic regression. The other parameters are the same as before\n",
    "\n",
    "mod = smf.logit(formula='DEATH_EVENT ~  age + creatinine_phosphokinase + ejection_fraction + \\\n",
    "                        platelets + serum_creatinine + serum_sodium + \\\n",
    "                        C(diabetes) + C(high_blood_pressure) +\\\n",
    "                        C(sex) + C(anaemia) + C(smoking) + C(high_blood_pressure)', data=df)\n",
    "res = mod.fit()\n",
    "print(res.summary())"
   ]
  },
  {
   "cell_type": "markdown",
   "metadata": {},
   "source": [
    "#### Looks good! We have a reasonably high R2 (0.216). In addition to reading the coefficients from the summary table, let's access them programmatically from the res object."
   ]
  },
  {
   "cell_type": "code",
   "execution_count": 12,
   "metadata": {},
   "outputs": [
    {
     "data": {
      "text/plain": "                                    0         1\nIntercept                   -1.872683 -0.453819\nC(diabetes)[T.1]            -0.431428  0.734243\nC(high_blood_pressure)[T.1] -0.180976  1.018851\nC(sex)[T.1]                 -1.086628  0.288599\nC(anaemia)[T.1]             -0.171894  1.007753\nC(smoking)[T.1]             -0.547629  0.818807\nage                          0.356256  0.968609\ncreatinine_phosphokinase     0.010320  0.553497\nejection_fraction           -1.177018 -0.487482\nplatelets                   -0.379319  0.240561\nserum_creatinine             0.333085  1.036318\nserum_sodium                -0.538702  0.038621",
      "text/html": "<div>\n<style scoped>\n    .dataframe tbody tr th:only-of-type {\n        vertical-align: middle;\n    }\n\n    .dataframe tbody tr th {\n        vertical-align: top;\n    }\n\n    .dataframe thead th {\n        text-align: right;\n    }\n</style>\n<table border=\"1\" class=\"dataframe\">\n  <thead>\n    <tr style=\"text-align: right;\">\n      <th></th>\n      <th>0</th>\n      <th>1</th>\n    </tr>\n  </thead>\n  <tbody>\n    <tr>\n      <th>Intercept</th>\n      <td>-1.872683</td>\n      <td>-0.453819</td>\n    </tr>\n    <tr>\n      <th>C(diabetes)[T.1]</th>\n      <td>-0.431428</td>\n      <td>0.734243</td>\n    </tr>\n    <tr>\n      <th>C(high_blood_pressure)[T.1]</th>\n      <td>-0.180976</td>\n      <td>1.018851</td>\n    </tr>\n    <tr>\n      <th>C(sex)[T.1]</th>\n      <td>-1.086628</td>\n      <td>0.288599</td>\n    </tr>\n    <tr>\n      <th>C(anaemia)[T.1]</th>\n      <td>-0.171894</td>\n      <td>1.007753</td>\n    </tr>\n    <tr>\n      <th>C(smoking)[T.1]</th>\n      <td>-0.547629</td>\n      <td>0.818807</td>\n    </tr>\n    <tr>\n      <th>age</th>\n      <td>0.356256</td>\n      <td>0.968609</td>\n    </tr>\n    <tr>\n      <th>creatinine_phosphokinase</th>\n      <td>0.010320</td>\n      <td>0.553497</td>\n    </tr>\n    <tr>\n      <th>ejection_fraction</th>\n      <td>-1.177018</td>\n      <td>-0.487482</td>\n    </tr>\n    <tr>\n      <th>platelets</th>\n      <td>-0.379319</td>\n      <td>0.240561</td>\n    </tr>\n    <tr>\n      <th>serum_creatinine</th>\n      <td>0.333085</td>\n      <td>1.036318</td>\n    </tr>\n    <tr>\n      <th>serum_sodium</th>\n      <td>-0.538702</td>\n      <td>0.038621</td>\n    </tr>\n  </tbody>\n</table>\n</div>"
     },
     "execution_count": 12,
     "metadata": {},
     "output_type": "execute_result"
    }
   ],
   "source": [
    "# feature names\n",
    "variables = res.params.index\n",
    "\n",
    "# quantifying uncertainty!\n",
    "\n",
    "# coefficients\n",
    "coefficients = res.params.values\n",
    "\n",
    "# p-values\n",
    "p_values = res.pvalues\n",
    "\n",
    "# standard errors\n",
    "standard_errors = res.bse.values\n",
    "\n",
    "#confidence intervals\n",
    "res.conf_int()"
   ]
  },
  {
   "cell_type": "markdown",
   "metadata": {},
   "source": [
    "### Now we can visualize the effect of all the predictors. Let's first sort them by the coefficients."
   ]
  },
  {
   "cell_type": "code",
   "execution_count": 13,
   "metadata": {
    "tags": []
   },
   "outputs": [],
   "source": [
    "#sort them all by coefficients\n",
    "l1, l2, l3, l4 = zip(*sorted(zip(coefficients[1:], variables[1:], standard_errors[1:], p_values[1:])))\n",
    "\n",
    "# in this case, we index starting from the first element, not to plot the intercept\n",
    "\n",
    "# we will use standard errors, instead of CIs\n",
    "# two standard errors approximate the CIs (you can actually see in the summary table that\n",
    "# +/2 SI is equivalent to the CIs)"
   ]
  },
  {
   "cell_type": "code",
   "execution_count": 14,
   "metadata": {},
   "outputs": [
    {
     "data": {
      "text/plain": "<Figure size 640x480 with 1 Axes>",
      "image/png": "[encoded data removed]"
     },
     "metadata": {},
     "output_type": "display_data"
    }
   ],
   "source": [
    "#fancy plotting\n",
    "\n",
    "plt.errorbar(l1, np.array(range(len(l1))), xerr= 2*np.array(l3), linewidth = 1,\n",
    "             linestyle = 'none',marker = 'o',markersize= 3,\n",
    "             markerfacecolor = 'black',markeredgecolor = 'black', capsize= 5)\n",
    "\n",
    "plt.vlines(0,0, len(l1), linestyle = '--')\n",
    "\n",
    "plt.yticks(range(len(l2)),l2);"
   ]
  },
  {
   "cell_type": "markdown",
   "metadata": {},
   "source": [
    "### Interpretation:\n",
    "- Serum creatinine level in the blood and age are significant positive predictors of death.\n",
    "- High ejection fraction (a healthy heart) is a sigificant negative predictor of death.\n",
    "- Since all predictors are standardized, we can interpret in the following way:\n",
    "    - When all other predictors take mean values, an increase of age by 1 standard deviation, leads on average to an increase by 0.66 of log odds of death.\n",
    "    - When all other predictors take mean values, increase of ejection fraction by 1 standard deviation, leads on average to a  decrease by 0.83 of log odds of death."
   ]
  },
  {
   "cell_type": "markdown",
   "metadata": {},
   "source": [
    "### Interpreting log odds\n",
    "\n",
    "- Why log odds? remember that that's what logistic regression models.\n",
    "    - Notice that log odds are a bit difficult to interpret.\n",
    "    - If an event has probability p, it has odds p/(1-p).\n",
    "    - This is a non-linear transformation over p. See the plot below!"
   ]
  },
  {
   "cell_type": "code",
   "execution_count": 15,
   "metadata": {},
   "outputs": [
    {
     "name": "stderr",
     "output_type": "stream",
     "text": [
      "C:\\Users\\ratas\\AppData\\Local\\Temp\\ipykernel_20716\\2214545008.py:10: RuntimeWarning: divide by zero encountered in log\n",
      "  axs[1].plot(odds, np.log(odds))\n",
      "C:\\Users\\ratas\\AppData\\Local\\Temp\\ipykernel_20716\\2214545008.py:15: RuntimeWarning: divide by zero encountered in log\n",
      "  axs[2].plot(p, np.log(odds))\n"
     ]
    },
    {
     "data": {
      "text/plain": "Text(0, 0.5, 'log odds')"
     },
     "execution_count": 15,
     "metadata": {},
     "output_type": "execute_result"
    },
    {
     "data": {
      "text/plain": "<Figure size 1400x300 with 3 Axes>",
      "image/png": "[encoded data removed]"
     },
     "metadata": {},
     "output_type": "display_data"
    }
   ],
   "source": [
    "fig, axs = plt.subplots(1, 3, figsize=(14,3))\n",
    "p = np.linspace(0, 0.99, 1000)\n",
    "odds = p/(1-p)\n",
    "axs[0].set_title(\"p vs. odds\")\n",
    "axs[0].plot(p, odds)\n",
    "axs[0].set_xlabel(\"p\")\n",
    "axs[0].set_ylabel(\"odds\")\n",
    "\n",
    "axs[1].set_title(\"odds vs. log-odds\")\n",
    "axs[1].plot(odds, np.log(odds))\n",
    "axs[1].set_xlabel(\"odds\")\n",
    "axs[1].set_ylabel(\"log odds\")\n",
    "\n",
    "axs[2].set_title(\"p vs. log-odds\")\n",
    "axs[2].plot(p, np.log(odds))\n",
    "axs[2].set_xlabel(\"p\")\n",
    "axs[2].set_ylabel(\"log odds\")"
   ]
  },
  {
   "cell_type": "markdown",
   "metadata": {},
   "source": [
    "With this in mind, calculate:\n",
    "\n",
    "1. If p = 0.1 and you have a change in log odds equals to +0.66, what will be your new p?\n",
    "\n",
    "1. If p = 0.9 and you have a change in log odds equals to +0.66, what will be your new p?"
   ]
  },
  {
   "cell_type": "code",
   "execution_count": 16,
   "metadata": {
    "tags": []
   },
   "outputs": [],
   "source": [
    "def p_to_log_odds(p):\n",
    "    return np.log(p/(1-p))\n",
    "def log_odds_to_p(odds):\n",
    "    return np.exp(odds) / (1+ np.exp(odds))"
   ]
  },
  {
   "cell_type": "code",
   "execution_count": 17,
   "metadata": {},
   "outputs": [
    {
     "data": {
      "text/plain": "-2.197224577336219"
     },
     "execution_count": 17,
     "metadata": {},
     "output_type": "execute_result"
    }
   ],
   "source": [
    "p_to_log_odds(0.1)"
   ]
  },
  {
   "cell_type": "code",
   "execution_count": 18,
   "metadata": {},
   "outputs": [
    {
     "data": {
      "text/plain": "0.10000000000000003"
     },
     "execution_count": 18,
     "metadata": {},
     "output_type": "execute_result"
    }
   ],
   "source": [
    "log_odds_to_p(-2.197224577336219)"
   ]
  },
  {
   "cell_type": "code",
   "execution_count": 19,
   "metadata": {},
   "outputs": [
    {
     "data": {
      "text/plain": "0.17693910183506342"
     },
     "execution_count": 19,
     "metadata": {},
     "output_type": "execute_result"
    }
   ],
   "source": [
    "odds = p_to_log_odds(0.1)\n",
    "log_odds_to_p(odds + 0.66)"
   ]
  },
  {
   "cell_type": "code",
   "execution_count": 20,
   "metadata": {},
   "outputs": [
    {
     "data": {
      "text/plain": "0.9456909311361745"
     },
     "execution_count": 20,
     "metadata": {},
     "output_type": "execute_result"
    }
   ],
   "source": [
    "odds = p_to_log_odds(0.9)\n",
    "log_odds_to_p(odds + 0.66)"
   ]
  },
  {
   "cell_type": "markdown",
   "metadata": {},
   "source": [
    "**Comment:** Notice that first increase of + 0.66 in log odds corresponds to roughtly a increase of ~7.7 percentage points! While the second increase corresponds to ~4.5 percentage points."
   ]
  },
  {
   "cell_type": "markdown",
   "source": [
    "### Controlling for variables\n",
    "\n",
    "Notice that independent variables (those used as features of our regression model) are often correlated!\n",
    "\n",
    "For instance serum creatinine, a blood measurement, is an important indicator of kidney health.\n",
    "We may want to study its impact in patients' outcomes (in this case, death).\n",
    "\n",
    "1. Using a logistic regression model estimate the effect of serum creatinine to a patient's health."
   ],
   "metadata": {
    "collapsed": false
   }
  },
  {
   "cell_type": "code",
   "execution_count": 21,
   "metadata": {
    "scrolled": true
   },
   "outputs": [
    {
     "name": "stdout",
     "output_type": "stream",
     "text": [
      "Optimization terminated successfully.\n",
      "         Current function value: 0.580689\n",
      "         Iterations 6\n",
      "                           Logit Regression Results                           \n",
      "==============================================================================\n",
      "Dep. Variable:            DEATH_EVENT   No. Observations:                  299\n",
      "Model:                          Logit   Df Residuals:                      297\n",
      "Method:                           MLE   Df Model:                            1\n",
      "Date:                Wed, 15 Nov 2023   Pseudo R-squ.:                 0.07485\n",
      "Time:                        19:06:14   Log-Likelihood:                -173.63\n",
      "converged:                       True   LL-Null:                       -187.67\n",
      "Covariance Type:            nonrobust   LLR p-value:                 1.154e-07\n",
      "====================================================================================\n",
      "                       coef    std err          z      P>|z|      [0.025      0.975]\n",
      "------------------------------------------------------------------------------------\n",
      "Intercept           -0.7429      0.131     -5.683      0.000      -0.999      -0.487\n",
      "serum_creatinine     0.8526      0.204      4.180      0.000       0.453       1.252\n",
      "====================================================================================\n"
     ]
    }
   ],
   "source": [
    "\"\"\"Your code here\"\"\"\n",
    "\n",
    "mod = smf.logit(formula='DEATH_EVENT ~  serum_creatinine', data=df)\n",
    "res = mod.fit()\n",
    "print(res.summary())"
   ]
  },
  {
   "cell_type": "markdown",
   "metadata": {},
   "source": [
    "2. Notice that serum creatinine is significantly correlated with age, that is, the older you are, the highest your value for serum creatinine will be (which is bad!). With this in mind, repeat the logistic regression now using serum creatinine _and_ age as predictor variables. What do you think will happen to the coefficient of serum-creatinine? Decrease or increase?"
   ]
  },
  {
   "cell_type": "code",
   "execution_count": 22,
   "metadata": {},
   "outputs": [
    {
     "data": {
      "text/plain": "PearsonRResult(statistic=0.15918713328355039, pvalue=0.005803432941203652)"
     },
     "execution_count": 22,
     "metadata": {},
     "output_type": "execute_result"
    }
   ],
   "source": [
    "import scipy.stats as stats\n",
    "stats.pearsonr(df[\"age\"].values, df[\"serum_creatinine\"])"
   ]
  },
  {
   "cell_type": "code",
   "execution_count": 23,
   "metadata": {},
   "outputs": [
    {
     "name": "stdout",
     "output_type": "stream",
     "text": [
      "Optimization terminated successfully.\n",
      "         Current function value: 0.558681\n",
      "         Iterations 6\n",
      "                           Logit Regression Results                           \n",
      "==============================================================================\n",
      "Dep. Variable:            DEATH_EVENT   No. Observations:                  299\n",
      "Model:                          Logit   Df Residuals:                      295\n",
      "Method:                           MLE   Df Model:                            3\n",
      "Date:                Wed, 15 Nov 2023   Pseudo R-squ.:                  0.1099\n",
      "Time:                        19:06:14   Log-Likelihood:                -167.05\n",
      "converged:                       True   LL-Null:                       -187.67\n",
      "Covariance Type:            nonrobust   LLR p-value:                 5.766e-09\n",
      "========================================================================================\n",
      "                           coef    std err          z      P>|z|      [0.025      0.975]\n",
      "----------------------------------------------------------------------------------------\n",
      "Intercept               -0.8005      0.137     -5.864      0.000      -1.068      -0.533\n",
      "serum_creatinine         0.7337      0.198      3.702      0.000       0.345       1.122\n",
      "age                      0.4864      0.137      3.540      0.000       0.217       0.756\n",
      "serum_creatinine:age     0.0390      0.220      0.177      0.859      -0.392       0.470\n",
      "========================================================================================\n"
     ]
    }
   ],
   "source": [
    "\"\"\"Your code here\"\"\"\n",
    "\n",
    "mod = smf.logit(formula='DEATH_EVENT ~  serum_creatinine * age', data=df)\n",
    "res = mod.fit()\n",
    "print(res.summary())"
   ]
  },
  {
   "cell_type": "markdown",
   "metadata": {},
   "source": [
    "**Comment:** Notice that the model R-squ. increased! And that the effect of `serum_creatinine` decreased from ~0.85 to  ~0.73! One way to think about this is that since the two are correlated, serum creatinine was also working as a proxy for age, but when we add age explicitly, this proxy effect disappears!"
   ]
  },
  {
   "cell_type": "markdown",
   "metadata": {},
   "source": [
    "### Log-transformations\n",
    "\n",
    "\n",
    "Remember from class that a log transform in the dependent variable (y) makes the model multiplicative.\n",
    "\n",
    "1. Fit a linear model to predict the time spent in the hospital (`time`) as a function of variables `high_blood_pressure`, `diabetes` and `DEATH_EVENT`.\n",
    "\n",
    "2. Now perform a log transform in the variable `time`, that is, create another column in the dataframe containing the `log` of time. Repeat the model, now using the log of time as the dependent variable.\n",
    "\n",
    "3. Calculate what is the _additive_ effect of having `high_blood_pressure` in the time spent in the hospital in the first model, and what is the _multiplicative_ effect of having `high_blood_pressure` in the second."
   ]
  },
  {
   "cell_type": "code",
   "execution_count": 24,
   "metadata": {
    "tags": []
   },
   "outputs": [],
   "source": [
    "# reload the data to undo the std transforms\n",
    "data_folder = './data/'\n",
    "df = pd.read_csv(data_folder + 'heart_failure_clinical_records_dataset.csv')"
   ]
  },
  {
   "cell_type": "code",
   "execution_count": 25,
   "metadata": {},
   "outputs": [
    {
     "name": "stdout",
     "output_type": "stream",
     "text": [
      "                            OLS Regression Results                            \n",
      "==============================================================================\n",
      "Dep. Variable:                   time   R-squared:                       0.303\n",
      "Model:                            OLS   Adj. R-squared:                  0.296\n",
      "Method:                 Least Squares   F-statistic:                     42.69\n",
      "Date:                Wed, 15 Nov 2023   Prob (F-statistic):           6.12e-23\n",
      "Time:                        19:06:14   Log-Likelihood:                -1671.0\n",
      "No. Observations:                 299   AIC:                             3350.\n",
      "Df Residuals:                     295   BIC:                             3365.\n",
      "Df Model:                           3                                         \n",
      "Covariance Type:            nonrobust                                         \n",
      "=======================================================================================\n",
      "                          coef    std err          t      P>|t|      [0.025      0.975]\n",
      "---------------------------------------------------------------------------------------\n",
      "Intercept             164.5089      6.162     26.699      0.000     152.383     176.635\n",
      "high_blood_pressure   -25.1955      7.918     -3.182      0.002     -40.778      -9.613\n",
      "diabetes                4.8305      7.638      0.632      0.528     -10.202      19.863\n",
      "DEATH_EVENT           -85.4005      8.094    -10.551      0.000    -101.330     -69.471\n",
      "==============================================================================\n",
      "Omnibus:                       34.592   Durbin-Watson:                   0.484\n",
      "Prob(Omnibus):                  0.000   Jarque-Bera (JB):               11.510\n",
      "Skew:                           0.184   Prob(JB):                      0.00317\n",
      "Kurtosis:                       2.112   Cond. No.                         3.02\n",
      "==============================================================================\n",
      "\n",
      "Notes:\n",
      "[1] Standard Errors assume that the covariance matrix of the errors is correctly specified.\n"
     ]
    }
   ],
   "source": [
    "\"\"\"Your code here\"\"\"\n",
    "\n",
    "mod = smf.ols(formula='time ~  high_blood_pressure + diabetes + DEATH_EVENT', data=df)\n",
    "res = mod.fit()\n",
    "print(res.summary())"
   ]
  },
  {
   "cell_type": "code",
   "execution_count": 26,
   "metadata": {},
   "outputs": [
    {
     "name": "stdout",
     "output_type": "stream",
     "text": [
      "                            OLS Regression Results                            \n",
      "==============================================================================\n",
      "Dep. Variable:                logtime   R-squared:                       0.359\n",
      "Model:                            OLS   Adj. R-squared:                  0.352\n",
      "Method:                 Least Squares   F-statistic:                     55.05\n",
      "Date:                Wed, 15 Nov 2023   Prob (F-statistic):           2.75e-28\n",
      "Time:                        19:06:14   Log-Likelihood:                -325.52\n",
      "No. Observations:                 299   AIC:                             659.0\n",
      "Df Residuals:                     295   BIC:                             673.8\n",
      "Df Model:                           3                                         \n",
      "Covariance Type:            nonrobust                                         \n",
      "=======================================================================================\n",
      "                          coef    std err          t      P>|t|      [0.025      0.975]\n",
      "---------------------------------------------------------------------------------------\n",
      "Intercept               4.9891      0.068     72.891      0.000       4.854       5.124\n",
      "high_blood_pressure    -0.2259      0.088     -2.569      0.011      -0.399      -0.053\n",
      "diabetes                0.0699      0.085      0.823      0.411      -0.097       0.237\n",
      "DEATH_EVENT            -1.1075      0.090    -12.318      0.000      -1.284      -0.931\n",
      "==============================================================================\n",
      "Omnibus:                       22.832   Durbin-Watson:                   0.615\n",
      "Prob(Omnibus):                  0.000   Jarque-Bera (JB):               27.194\n",
      "Skew:                          -0.620   Prob(JB):                     1.24e-06\n",
      "Kurtosis:                       3.803   Cond. No.                         3.02\n",
      "==============================================================================\n",
      "\n",
      "Notes:\n",
      "[1] Standard Errors assume that the covariance matrix of the errors is correctly specified.\n"
     ]
    }
   ],
   "source": [
    "\"\"\"Your code here\"\"\"\n",
    "df[\"logtime\"] = np.log(df[\"time\"])\n",
    "mod = smf.ols(formula='logtime ~  high_blood_pressure + diabetes + DEATH_EVENT', data=df)\n",
    "res = mod.fit()\n",
    "print(res.summary())"
   ]
  },
  {
   "cell_type": "markdown",
   "metadata": {},
   "source": [
    "**Comment:** In the first model, `high_blood_pressure` is associated with an additive coefficient of around -25. Thus, in the model, whenever a patient has high blood pressure we deduce -25 days out of the prediction.\n",
    "In the second model, `high_blood_pressure` is associated with an multiplicative coefficient of around -0.22. This means that, in the model, whenever a patient has high blood pressure we multiply his or her outcome by $e^{-0.22} \\simeq 0.80$. \n",
    "\n"
   ]
  }
 ],
 "metadata": {
  "kernelspec": {
   "display_name": "Python 3 (ipykernel)",
   "language": "python",
   "name": "python3"
  },
  "language_info": {
   "codemirror_mode": {
    "name": "ipython",
    "version": 3
   },
   "file_extension": ".py",
   "mimetype": "text/x-python",
   "name": "python",
   "nbconvert_exporter": "python",
   "pygments_lexer": "ipython3",
   "version": "3.9.13"
  },
  "varInspector": {
   "cols": {
    "lenName": 16,
    "lenType": 16,
    "lenVar": 40
   },
   "kernels_config": {
    "python": {
     "delete_cmd_postfix": "",
     "delete_cmd_prefix": "del ",
     "library": "var_list.py",
     "varRefreshCmd": "print(var_dic_list())"
    },
    "r": {
     "delete_cmd_postfix": ") ",
     "delete_cmd_prefix": "rm(",
     "library": "var_list.r",
     "varRefreshCmd": "cat(var_dic_list()) "
    }
   },
   "types_to_exclude": [
    "module",
    "function",
    "builtin_function_or_method",
    "instance",
    "_Feature"
   ],
   "window_display": false
  }
 },
 "nbformat": 4,
 "nbformat_minor": 4
}
