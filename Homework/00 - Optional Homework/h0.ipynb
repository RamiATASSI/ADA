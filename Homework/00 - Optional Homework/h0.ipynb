{
 "cells": [
  {
   "cell_type": "code",
   "execution_count": 2,
   "outputs": [],
   "source": [
    "import pandas as pd\n",
    "import os"
   ],
   "metadata": {
    "collapsed": false
   }
  },
  {
   "cell_type": "code",
   "execution_count": 119,
   "outputs": [
    {
     "name": "stdout",
     "output_type": "stream",
     "text": [
      "(540, 7)\n"
     ]
    },
    {
     "data": {
      "text/plain": "            Intent         Gender            Age                    Race  \\\n1    None selected  None selected  None selected           None selected   \n2    None selected  None selected  None selected                   White   \n3    None selected  None selected  None selected                   Black   \n4    None selected  None selected  None selected                Hispanic   \n5    None selected  None selected  None selected  Asian/Pacific Islander   \n..             ...            ...            ...                     ...   \n536        Unknown           Male              5                   White   \n537        Unknown           Male              5                   Black   \n538        Unknown           Male              5                Hispanic   \n539        Unknown           Male              5  Asian/Pacific Islander   \n540        Unknown           Male              5                   Other   \n\n     Deaths  Population  Rate  \n1     33599   316299978  10.6  \n2     22079   197369634  11.2  \n3      7765    38896382  20.0  \n4      3007    54049078   5.6  \n5       442    16315561   2.7  \n..      ...         ...   ...  \n536       0           0   NaN  \n537       0           0   NaN  \n538       0           0   NaN  \n539       0           0   NaN  \n540       0           0   NaN  \n\n[540 rows x 7 columns]",
      "text/html": "<div>\n<style scoped>\n    .dataframe tbody tr th:only-of-type {\n        vertical-align: middle;\n    }\n\n    .dataframe tbody tr th {\n        vertical-align: top;\n    }\n\n    .dataframe thead th {\n        text-align: right;\n    }\n</style>\n<table border=\"1\" class=\"dataframe\">\n  <thead>\n    <tr style=\"text-align: right;\">\n      <th></th>\n      <th>Intent</th>\n      <th>Gender</th>\n      <th>Age</th>\n      <th>Race</th>\n      <th>Deaths</th>\n      <th>Population</th>\n      <th>Rate</th>\n    </tr>\n  </thead>\n  <tbody>\n    <tr>\n      <th>1</th>\n      <td>None selected</td>\n      <td>None selected</td>\n      <td>None selected</td>\n      <td>None selected</td>\n      <td>33599</td>\n      <td>316299978</td>\n      <td>10.6</td>\n    </tr>\n    <tr>\n      <th>2</th>\n      <td>None selected</td>\n      <td>None selected</td>\n      <td>None selected</td>\n      <td>White</td>\n      <td>22079</td>\n      <td>197369634</td>\n      <td>11.2</td>\n    </tr>\n    <tr>\n      <th>3</th>\n      <td>None selected</td>\n      <td>None selected</td>\n      <td>None selected</td>\n      <td>Black</td>\n      <td>7765</td>\n      <td>38896382</td>\n      <td>20.0</td>\n    </tr>\n    <tr>\n      <th>4</th>\n      <td>None selected</td>\n      <td>None selected</td>\n      <td>None selected</td>\n      <td>Hispanic</td>\n      <td>3007</td>\n      <td>54049078</td>\n      <td>5.6</td>\n    </tr>\n    <tr>\n      <th>5</th>\n      <td>None selected</td>\n      <td>None selected</td>\n      <td>None selected</td>\n      <td>Asian/Pacific Islander</td>\n      <td>442</td>\n      <td>16315561</td>\n      <td>2.7</td>\n    </tr>\n    <tr>\n      <th>...</th>\n      <td>...</td>\n      <td>...</td>\n      <td>...</td>\n      <td>...</td>\n      <td>...</td>\n      <td>...</td>\n      <td>...</td>\n    </tr>\n    <tr>\n      <th>536</th>\n      <td>Unknown</td>\n      <td>Male</td>\n      <td>5</td>\n      <td>White</td>\n      <td>0</td>\n      <td>0</td>\n      <td>NaN</td>\n    </tr>\n    <tr>\n      <th>537</th>\n      <td>Unknown</td>\n      <td>Male</td>\n      <td>5</td>\n      <td>Black</td>\n      <td>0</td>\n      <td>0</td>\n      <td>NaN</td>\n    </tr>\n    <tr>\n      <th>538</th>\n      <td>Unknown</td>\n      <td>Male</td>\n      <td>5</td>\n      <td>Hispanic</td>\n      <td>0</td>\n      <td>0</td>\n      <td>NaN</td>\n    </tr>\n    <tr>\n      <th>539</th>\n      <td>Unknown</td>\n      <td>Male</td>\n      <td>5</td>\n      <td>Asian/Pacific Islander</td>\n      <td>0</td>\n      <td>0</td>\n      <td>NaN</td>\n    </tr>\n    <tr>\n      <th>540</th>\n      <td>Unknown</td>\n      <td>Male</td>\n      <td>5</td>\n      <td>Other</td>\n      <td>0</td>\n      <td>0</td>\n      <td>NaN</td>\n    </tr>\n  </tbody>\n</table>\n<p>540 rows × 7 columns</p>\n</div>"
     },
     "execution_count": 119,
     "metadata": {},
     "output_type": "execute_result"
    }
   ],
   "source": [
    "## Reading the 'interactive_data.csv' file as a pandas dataframe\n",
    "PATH_IN = './data/'\n",
    "fname = os.path.join(PATH_IN, 'interactive_data.csv')\n",
    "df = pd.read_csv(fname, index_col=0)\n",
    "print(df.shape)\n",
    "df"
   ],
   "metadata": {
    "collapsed": false
   }
  },
  {
   "cell_type": "code",
   "execution_count": 140,
   "outputs": [
    {
     "name": "stdout",
     "output_type": "stream",
     "text": [
      "Suicide among all death 62.7 %\n"
     ]
    }
   ],
   "source": [
    "## Display the number of Deaths where the column 'Intent' is 'Homicide' and the column 'Age' is '15 - 34'\n",
    "suicide = df[(df['Intent'] == 'Suicide')\n",
    "   & (df['Age'] == 'None selected')\n",
    "   & (df['Gender'] == 'None selected')\n",
    "   & (df['Race'] == 'None selected')].Deaths.sum()\n",
    "all_death = df.head(1).Deaths.sum()\n",
    "ratio = suicide / all_death * 100\n",
    "print(\"Suicide among all death\", round(ratio, 1), \"%\")"
   ],
   "metadata": {
    "collapsed": false
   }
  },
  {
   "cell_type": "code",
   "execution_count": 139,
   "outputs": [
    {
     "name": "stdout",
     "output_type": "stream",
     "text": [
      "Male suicide among all suicide 86.2 %\n"
     ]
    }
   ],
   "source": [
    "male_suicide = df[(df['Intent'] == 'Suicide')\n",
    "   & (df['Age'] == 'None selected')\n",
    "   & (df['Gender'] == 'Male')\n",
    "   & (df['Race'] == 'None selected')].Deaths.sum()\n",
    "ratio = male_suicide / suicide * 100\n",
    "print(\"Male suicide among all suicide\", round(ratio, 1), \"%\")\n"
   ],
   "metadata": {
    "collapsed": false
   }
  },
  {
   "cell_type": "code",
   "execution_count": 138,
   "outputs": [
    {
     "name": "stdout",
     "output_type": "stream",
     "text": [
      "Homicide among all death 34.9 %\n"
     ]
    }
   ],
   "source": [
    "homicide = df[(df['Intent'] == 'Homicide')\n",
    "   & (df['Age'] == 'None selected')\n",
    "   & (df['Gender'] == 'None selected')\n",
    "   & (df['Race'] == 'None selected')].Deaths.sum()\n",
    "ratio = homicide / all_death * 100\n",
    "print(\"Homicide among all death\", round(ratio, 1), \"%\")"
   ],
   "metadata": {
    "collapsed": false
   }
  },
  {
   "cell_type": "code",
   "execution_count": 137,
   "outputs": [
    {
     "name": "stdout",
     "output_type": "stream",
     "text": [
      "Black among young men homicides 66.1 %\n"
     ]
    }
   ],
   "source": [
    "young_male_homicides = df[(df['Intent'] == 'Homicide')\n",
    "   & (df['Age'] == '15 - 34')\n",
    "   & (df['Gender'] == 'Male')\n",
    "   & (df['Race'] == 'None selected')].Deaths.sum()\n",
    "black_young_male_homicides = df[(df['Intent'] == 'Homicide')\n",
    "   & (df['Age'] == '15 - 34')\n",
    "   & (df['Gender'] == 'Male')\n",
    "   & (df['Race'] == 'Black')].Deaths.sum()\n",
    "ratio = black_young_male_homicides / young_male_homicides * 100\n",
    "print(\"Black among young men homicides\", round(ratio, 1), \"%\")"
   ],
   "metadata": {
    "collapsed": false
   }
  },
  {
   "cell_type": "code",
   "execution_count": null,
   "outputs": [],
   "source": [],
   "metadata": {
    "collapsed": false
   }
  }
 ],
 "metadata": {
  "kernelspec": {
   "name": "conda-env-.conda-ada-py",
   "language": "python",
   "display_name": "Python [conda env:.conda-ada] *"
  },
  "language_info": {
   "codemirror_mode": {
    "name": "ipython",
    "version": 2
   },
   "file_extension": ".py",
   "mimetype": "text/x-python",
   "name": "python",
   "nbconvert_exporter": "python",
   "pygments_lexer": "ipython2",
   "version": "2.7.6"
  }
 },
 "nbformat": 4,
 "nbformat_minor": 0
}
